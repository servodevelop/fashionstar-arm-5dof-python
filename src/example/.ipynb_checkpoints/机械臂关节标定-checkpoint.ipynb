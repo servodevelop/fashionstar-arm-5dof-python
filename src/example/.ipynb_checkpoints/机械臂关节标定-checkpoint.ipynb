{
 "cells": [
  {
   "cell_type": "markdown",
   "metadata": {},
   "source": [
    "# 机械臂标定"
   ]
  },
  {
   "cell_type": "markdown",
   "metadata": {},
   "source": [
    "## 导入依赖"
   ]
  },
  {
   "cell_type": "code",
   "execution_count": 1,
   "metadata": {},
   "outputs": [],
   "source": [
    "import sys\n",
    "sys.path.append('../')\n",
    "\n",
    "import math\n",
    "from arm5dof import Arm5DoF\n",
    "from config import *"
   ]
  },
  {
   "cell_type": "markdown",
   "metadata": {},
   "source": [
    "## 机械臂初始化"
   ]
  },
  {
   "cell_type": "code",
   "execution_count": 2,
   "metadata": {},
   "outputs": [
    {
     "name": "stderr",
     "output_type": "stream",
     "text": [
      "INFO:root:设置关节弧度, 关节#1 弧度 0.0000 角度 0.0\n",
      "INFO:root:设置关节弧度, 关节#2 弧度 -2.3562 角度 -135.0\n",
      "INFO:root:设置关节弧度, 关节#3 弧度 1.5708 角度 90.0\n",
      "INFO:root:设置关节弧度, 关节#4 弧度 0.7854 角度 45.0\n",
      "INFO:root:设置关节弧度, 关节#5 弧度 0.0000 角度 0.0\n"
     ]
    }
   ],
   "source": [
    "arm = Arm5DoF('COM5')"
   ]
  },
  {
   "cell_type": "markdown",
   "metadata": {},
   "source": [
    "## 调整关节1的弧度\n",
    "\n",
    "![](./image/关节1的弧度.png)"
   ]
  },
  {
   "cell_type": "markdown",
   "metadata": {},
   "source": [
    "调整0号舵机, 让关节1旋转到弧度 $\\theta_1 = \\frac{\\pi}{2}$"
   ]
  },
  {
   "cell_type": "code",
   "execution_count": 3,
   "metadata": {},
   "outputs": [
    {
     "name": "stderr",
     "output_type": "stream",
     "text": [
      "INFO:root:设置舵机角度, 舵机#0 目标角度 -80.0\n"
     ]
    }
   ],
   "source": [
    "j1_p90_srv_angle =  -80.0 # 当关节1等于90度的时候的舵机原始角度\n",
    "arm.set_servo_angle({JOINT1:j1_p90_srv_angle}, wait=True)"
   ]
  },
  {
   "cell_type": "markdown",
   "metadata": {},
   "source": [
    "调整0号舵机, 让关节1旋转到弧度 $\\theta_1 = -\\frac{\\pi}{2}$"
   ]
  },
  {
   "cell_type": "code",
   "execution_count": 4,
   "metadata": {},
   "outputs": [
    {
     "name": "stderr",
     "output_type": "stream",
     "text": [
      "INFO:root:设置舵机角度, 舵机#0 目标角度 80.0\n"
     ]
    }
   ],
   "source": [
    "j1_n90_srv_angle =  80 # 当关节1等于-90度的时候的舵机原始角度\n",
    "arm.set_servo_angle({JOINT1:j1_n90_srv_angle}, wait=True)"
   ]
  },
  {
   "cell_type": "markdown",
   "metadata": {},
   "source": [
    "调整0号舵机, 让关节1旋转到弧度$\\theta_1 = 0$"
   ]
  },
  {
   "cell_type": "code",
   "execution_count": 5,
   "metadata": {},
   "outputs": [
    {
     "name": "stderr",
     "output_type": "stream",
     "text": [
      "INFO:root:设置舵机角度, 舵机#0 目标角度 0.0\n"
     ]
    }
   ],
   "source": [
    "arm.set_servo_angle({JOINT1:(j1_p90_srv_angle+j1_n90_srv_angle)/2}, wait=True)"
   ]
  },
  {
   "cell_type": "markdown",
   "metadata": {},
   "source": [
    "## 调整关节2"
   ]
  },
  {
   "cell_type": "markdown",
   "metadata": {},
   "source": [
    "![](./image/关节2的弧度.png)"
   ]
  },
  {
   "cell_type": "markdown",
   "metadata": {},
   "source": [
    "调整1号舵机, 让关节2旋转到弧度 $\\theta_2=0$"
   ]
  },
  {
   "cell_type": "code",
   "execution_count": 6,
   "metadata": {},
   "outputs": [
    {
     "name": "stderr",
     "output_type": "stream",
     "text": [
      "INFO:root:设置舵机角度, 舵机#1 目标角度 75.0\n"
     ]
    }
   ],
   "source": [
    "j2_p0_srv_angle = 75 # 当关节2等于0度的时候的舵机原始角度\n",
    "arm.set_servo_angle({JOINT2:j2_p0_srv_angle}, wait=True)"
   ]
  },
  {
   "cell_type": "markdown",
   "metadata": {},
   "source": [
    "调整1号舵机, 让关节2旋转到弧度 $\\theta_2=-\\frac{\\pi}{2}$"
   ]
  },
  {
   "cell_type": "code",
   "execution_count": 7,
   "metadata": {},
   "outputs": [
    {
     "name": "stderr",
     "output_type": "stream",
     "text": [
      "INFO:root:设置舵机角度, 舵机#1 目标角度 -1.0\n"
     ]
    }
   ],
   "source": [
    "j2_n90_srv_angle = -1.0 # 当关节2等于-180度的时候的舵机原始角度\n",
    "arm.set_servo_angle({JOINT2:j2_n90_srv_angle}, wait=True)"
   ]
  },
  {
   "cell_type": "markdown",
   "metadata": {},
   "source": [
    "## 调整关节3"
   ]
  },
  {
   "cell_type": "markdown",
   "metadata": {},
   "source": [
    "![](./image/关节3的弧度.png)"
   ]
  },
  {
   "cell_type": "markdown",
   "metadata": {},
   "source": [
    "调整2号舵机, 让关节3旋转到弧度 $\\theta_3=\\frac{\\pi}{2}$"
   ]
  },
  {
   "cell_type": "code",
   "execution_count": 8,
   "metadata": {},
   "outputs": [
    {
     "name": "stderr",
     "output_type": "stream",
     "text": [
      "INFO:root:设置舵机角度, 舵机#2 目标角度 -38.0\n"
     ]
    }
   ],
   "source": [
    "j3_p90_srv_angle=-38 #当关节3等于90度的时候的舵机原始角度\n",
    "arm.set_servo_angle({JOINT3:j3_p90_srv_angle}, wait=True)"
   ]
  },
  {
   "cell_type": "markdown",
   "metadata": {},
   "source": [
    "调整2号舵机, 让关节3旋转到弧度 $\\theta_3=0$"
   ]
  },
  {
   "cell_type": "code",
   "execution_count": 9,
   "metadata": {},
   "outputs": [
    {
     "name": "stderr",
     "output_type": "stream",
     "text": [
      "INFO:root:设置舵机角度, 舵机#2 目标角度 40.0\n"
     ]
    }
   ],
   "source": [
    "j3_p0_srv_angle=40 #当关节3等于90度的时候的舵机原始角度\n",
    "arm.set_servo_angle({JOINT3:j3_p0_srv_angle}, wait=True)"
   ]
  },
  {
   "cell_type": "markdown",
   "metadata": {},
   "source": [
    "## 调整关节4\n",
    "\n",
    "![](./image/关节4的弧度.png)"
   ]
  },
  {
   "cell_type": "markdown",
   "metadata": {},
   "source": [
    "调整3号舵机, 让关节4旋转到弧度 $\\theta_4=\\frac{\\pi}{2}$"
   ]
  },
  {
   "cell_type": "code",
   "execution_count": 10,
   "metadata": {},
   "outputs": [
    {
     "name": "stderr",
     "output_type": "stream",
     "text": [
      "INFO:root:设置舵机角度, 舵机#3 目标角度 -78.0\n"
     ]
    }
   ],
   "source": [
    "j4_p90_srv_angle=-78 #当关节4等于90度的时候的舵机原始角度\n",
    "arm.set_servo_angle({JOINT4:j4_p90_srv_angle}, wait=True)"
   ]
  },
  {
   "cell_type": "markdown",
   "metadata": {},
   "source": [
    "调整3号舵机, 让关节4旋转到弧度 $\\theta_4=-\\frac{\\pi}{2}$"
   ]
  },
  {
   "cell_type": "code",
   "execution_count": 11,
   "metadata": {},
   "outputs": [
    {
     "name": "stderr",
     "output_type": "stream",
     "text": [
      "INFO:root:设置舵机角度, 舵机#3 目标角度 78.0\n"
     ]
    }
   ],
   "source": [
    "j4_n90_srv_angle=78 #当关节4等于-90度的时候的舵机原始角度\n",
    "arm.set_servo_angle({JOINT4:j4_n90_srv_angle}, wait=True)"
   ]
  },
  {
   "cell_type": "code",
   "execution_count": 12,
   "metadata": {},
   "outputs": [
    {
     "name": "stderr",
     "output_type": "stream",
     "text": [
      "INFO:root:设置舵机角度, 舵机#3 目标角度 0.0\n"
     ]
    }
   ],
   "source": [
    "arm.set_servo_angle({JOINT4:(j4_p90_srv_angle + j4_n90_srv_angle)/2}, wait=True)"
   ]
  },
  {
   "cell_type": "markdown",
   "metadata": {},
   "source": [
    "## 标定爪子"
   ]
  },
  {
   "cell_type": "code",
   "execution_count": 16,
   "metadata": {},
   "outputs": [
    {
     "name": "stderr",
     "output_type": "stream",
     "text": [
      "INFO:root:设置舵机角度, 舵机#4 目标角度 90.0\n"
     ]
    }
   ],
   "source": [
    "j5_p90_srv_angle = 90.0\n",
    "arm.set_servo_angle({GRIPPER:j5_p90_srv_angle}, wait=True)"
   ]
  },
  {
   "cell_type": "code",
   "execution_count": 21,
   "metadata": {},
   "outputs": [
    {
     "name": "stderr",
     "output_type": "stream",
     "text": [
      "INFO:root:设置舵机角度, 舵机#4 目标角度 0.0\n"
     ]
    }
   ],
   "source": [
    "j5_p0_srv_angle = 0.0\n",
    "arm.set_servo_angle({GRIPPER:j5_p0_srv_angle}, wait=True)"
   ]
  },
  {
   "cell_type": "markdown",
   "metadata": {},
   "source": [
    "## 标定舵机"
   ]
  },
  {
   "cell_type": "markdown",
   "metadata": {},
   "source": [
    "计算各个关节的比例系数与角度偏移量. 用一个简单的一次函数来表示舵机原始角度与机械臂关节弧度之间的关系"
   ]
  },
  {
   "cell_type": "markdown",
   "metadata": {},
   "source": [
    "$$\n",
    "angle_i = k_i*\\theta_{i} + b_i\n",
    "$$\n",
    "\n",
    "* $\\theta_i$关节弧度\n",
    "* $angle_i$ 舵机原始角度\n",
    "* $k_i$ 比例系数\n",
    "* $b_i$ 偏移量"
   ]
  },
  {
   "cell_type": "code",
   "execution_count": 23,
   "metadata": {},
   "outputs": [],
   "source": [
    "def calc_kb(angle_a, angle_b, theta_a, theta_b):\n",
    "    k = (angle_a-angle_b) / (theta_a-theta_b)\n",
    "    b = angle_a - k*theta_a\n",
    "    return k, b"
   ]
  },
  {
   "cell_type": "code",
   "execution_count": 24,
   "metadata": {},
   "outputs": [],
   "source": [
    "k1, b1 = calc_kb(j1_n90_srv_angle, j1_p90_srv_angle, -math.pi/2, math.pi/2)\n",
    "k2, b2 = calc_kb(j2_n90_srv_angle, j2_p0_srv_angle, -math.pi/2, 0)\n",
    "k3, b3 = calc_kb(j3_p0_srv_angle, j3_p90_srv_angle, 0, math.pi/2)\n",
    "k4, b4 = calc_kb(j4_n90_srv_angle, j4_p90_srv_angle, -math.pi/2, math.pi/2)\n",
    "k5, b5 = calc_kb(j5_p0_srv_angle, j5_p90_srv_angle, 0, math.pi/2)"
   ]
  },
  {
   "cell_type": "code",
   "execution_count": 25,
   "metadata": {},
   "outputs": [
    {
     "name": "stdout",
     "output_type": "stream",
     "text": [
      "JOINT2SERVO_K=[-50.930, 48.383, -49.656, -49.656, 57.296]\n",
      "JOINT2SERVO_B=[0.000, 75.000, 40.000, 0.000, 0.000]\n"
     ]
    }
   ],
   "source": [
    "print('JOINT2SERVO_K=[{:.3f}, {:.3f}, {:.3f}, {:.3f}, {:.3f}]\\nJOINT2SERVO_B=[{:.3f}, {:.3f}, {:.3f}, {:.3f}, {:.3f}]'.format(k1, k2, k3, k4, k5, b1, b2, b3, b4, b5))"
   ]
  },
  {
   "cell_type": "markdown",
   "metadata": {},
   "source": [
    "将打印出来的字符串替换掉`config.py`里面的`JOINT2SERVO_K`与`JOINT2SERVO_B`"
   ]
  },
  {
   "cell_type": "markdown",
   "metadata": {},
   "source": [
    "`config.py`\n",
    "```python\n",
    "# 舵机原始角度与关节弧度转换对应的偏移量与比例系数\n",
    "JOINT2SERVO_K=[-56.818, 56.659, -59.842, -58.251]\n",
    "JOINT2SERVO_B=[-9.250,93.000,48.000,-1.500]\n",
    "```"
   ]
  }
 ],
 "metadata": {
  "kernelspec": {
   "display_name": "Python 3",
   "language": "python",
   "name": "python3"
  },
  "language_info": {
   "codemirror_mode": {
    "name": "ipython",
    "version": 3
   },
   "file_extension": ".py",
   "mimetype": "text/x-python",
   "name": "python",
   "nbconvert_exporter": "python",
   "pygments_lexer": "ipython3",
   "version": "3.9.1"
  }
 },
 "nbformat": 4,
 "nbformat_minor": 2
}

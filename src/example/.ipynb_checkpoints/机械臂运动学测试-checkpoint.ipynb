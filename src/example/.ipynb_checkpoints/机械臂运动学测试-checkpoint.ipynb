{
 "cells": [
  {
   "cell_type": "markdown",
   "id": "continued-textbook",
   "metadata": {},
   "source": [
    "## 导入依赖"
   ]
  },
  {
   "cell_type": "code",
   "execution_count": 1,
   "id": "sunset-overview",
   "metadata": {},
   "outputs": [],
   "source": [
    "import sys\n",
    "sys.path.append('../')\n",
    "\n",
    "import math\n",
    "import numpy as np\n",
    "from arm5dof import Arm5DoF\n",
    "from config import *"
   ]
  },
  {
   "cell_type": "markdown",
   "id": "incredible-foundation",
   "metadata": {},
   "source": [
    "## 机械臂创建"
   ]
  },
  {
   "cell_type": "code",
   "execution_count": 2,
   "id": "initial-humor",
   "metadata": {},
   "outputs": [
    {
     "name": "stderr",
     "output_type": "stream",
     "text": [
      "INFO:root:设置关节弧度, 关节#1 弧度 0.0000 角度 0.0\n",
      "INFO:root:设置关节弧度, 关节#2 弧度 -2.3562 角度 -135.0\n",
      "INFO:root:设置关节弧度, 关节#3 弧度 1.5708 角度 90.0\n",
      "INFO:root:设置关节弧度, 关节#4 弧度 0.7854 角度 45.0\n"
     ]
    }
   ],
   "source": [
    "arm = Arm5DoF('COM5')"
   ]
  },
  {
   "cell_type": "markdown",
   "id": "guided-phoenix",
   "metadata": {},
   "source": [
    "## 正向运动学"
   ]
  },
  {
   "cell_type": "code",
   "execution_count": 3,
   "id": "flexible-genealogy",
   "metadata": {},
   "outputs": [],
   "source": [
    "thetas = arm.get_thetas()"
   ]
  },
  {
   "cell_type": "code",
   "execution_count": 4,
   "id": "wrapped-assignment",
   "metadata": {},
   "outputs": [
    {
     "data": {
      "text/plain": [
       "[0.007853917141174161,\n",
       " -2.354132649897691,\n",
       " 1.5768487191880136,\n",
       " 0.7854035766070566]"
      ]
     },
     "execution_count": 4,
     "metadata": {},
     "output_type": "execute_result"
    }
   ],
   "source": [
    "thetas"
   ]
  },
  {
   "cell_type": "code",
   "execution_count": 5,
   "id": "negative-flavor",
   "metadata": {},
   "outputs": [
    {
     "data": {
      "text/plain": [
       "array([   0.4499963 , -134.88186525,   90.34677654,   45.00031015])"
      ]
     },
     "execution_count": 5,
     "metadata": {},
     "output_type": "execute_result"
    }
   ],
   "source": [
    "np.degrees(thetas)"
   ]
  },
  {
   "cell_type": "code",
   "execution_count": 6,
   "id": "maritime-roberts",
   "metadata": {},
   "outputs": [],
   "source": [
    "p_tool, pitch = arm.forward_kinematics(thetas)"
   ]
  },
  {
   "cell_type": "code",
   "execution_count": 7,
   "id": "hourly-engagement",
   "metadata": {},
   "outputs": [
    {
     "data": {
      "text/plain": [
       "(13.371400697675003, 0.10502003250225889, 10.888308898157495)"
      ]
     },
     "execution_count": 7,
     "metadata": {},
     "output_type": "execute_result"
    }
   ],
   "source": [
    "p_tool"
   ]
  },
  {
   "cell_type": "code",
   "execution_count": 8,
   "id": "aboriginal-friendship",
   "metadata": {},
   "outputs": [
    {
     "data": {
      "text/plain": [
       "0.008119645897379124"
      ]
     },
     "execution_count": 8,
     "metadata": {},
     "output_type": "execute_result"
    }
   ],
   "source": [
    "pitch"
   ]
  },
  {
   "cell_type": "markdown",
   "id": "smaller-approval",
   "metadata": {},
   "source": [
    "## 逆向运动学"
   ]
  },
  {
   "cell_type": "code",
   "execution_count": 15,
   "id": "looking-thanksgiving",
   "metadata": {},
   "outputs": [
    {
     "name": "stdout",
     "output_type": "stream",
     "text": [
      "p_tool: [15.0, 3.0, 7.0] , pitch=0.5235987755982988\n"
     ]
    }
   ],
   "source": [
    "p_tool = [15.0, 3.0, 7.0]\n",
    "pitch  = math.radians(30.0)\n",
    "ret, thetas = arm.inverse_kinematics(p_tool, pitch)\n",
    "\n",
    "print(\"p_tool: {} , pitch={}\".format(p_tool, pitch))"
   ]
  },
  {
   "cell_type": "markdown",
   "id": "parental-judges",
   "metadata": {},
   "source": [
    "## 正向运动学"
   ]
  },
  {
   "cell_type": "code",
   "execution_count": 16,
   "id": "centered-audience",
   "metadata": {},
   "outputs": [
    {
     "name": "stdout",
     "output_type": "stream",
     "text": [
      "p_tool: (14.999999999999996, 2.999999999999999, 7.000000000000002) , pitch=0.5235987755982988\n"
     ]
    }
   ],
   "source": [
    "p_tool, pitch = arm.forward_kinematics(thetas)\n",
    "\n",
    "print(\"p_tool: {} , pitch={}\".format(p_tool, pitch))"
   ]
  },
  {
   "cell_type": "markdown",
   "id": "cubic-accommodation",
   "metadata": {},
   "source": [
    "## 若干测试"
   ]
  },
  {
   "cell_type": "code",
   "execution_count": 19,
   "id": "charming-instrumentation",
   "metadata": {},
   "outputs": [
    {
     "name": "stdout",
     "output_type": "stream",
     "text": [
      "p_tool: [15.0, 3.0, 10.0] , pitch=-0.17453292519943295\n"
     ]
    }
   ],
   "source": [
    "p_tool = [15.0, 3.0, 10.0]\n",
    "pitch  = math.radians(-10.0)\n",
    "ret, thetas = arm.inverse_kinematics(p_tool, pitch)\n",
    "\n",
    "print(\"p_tool: {} , pitch={}\".format(p_tool, pitch))"
   ]
  },
  {
   "cell_type": "code",
   "execution_count": 21,
   "id": "treated-glance",
   "metadata": {},
   "outputs": [
    {
     "name": "stdout",
     "output_type": "stream",
     "text": [
      "p_tool: (15.0, 3.0, 10.0) , pitch=-0.17453292519943295\n"
     ]
    }
   ],
   "source": [
    "p_tool, pitch = arm.forward_kinematics(thetas)\n",
    "print(\"p_tool: {} , pitch={}\".format(p_tool, pitch))"
   ]
  }
 ],
 "metadata": {
  "kernelspec": {
   "display_name": "Python 3",
   "language": "python",
   "name": "python3"
  },
  "language_info": {
   "codemirror_mode": {
    "name": "ipython",
    "version": 3
   },
   "file_extension": ".py",
   "mimetype": "text/x-python",
   "name": "python",
   "nbconvert_exporter": "python",
   "pygments_lexer": "ipython3",
   "version": "3.9.1"
  }
 },
 "nbformat": 4,
 "nbformat_minor": 5
}

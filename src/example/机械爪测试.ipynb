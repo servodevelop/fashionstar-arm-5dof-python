{
 "cells": [
  {
   "cell_type": "code",
   "execution_count": 1,
   "id": "surrounded-fashion",
   "metadata": {},
   "outputs": [],
   "source": [
    "import sys\n",
    "sys.path.append('../')\n",
    "\n",
    "import math\n",
    "import numpy as np\n",
    "from arm5dof import Arm5DoF\n",
    "from config import *"
   ]
  },
  {
   "cell_type": "code",
   "execution_count": 2,
   "id": "selective-monster",
   "metadata": {},
   "outputs": [],
   "source": [
    "arm = Arm5DoF('COM5')"
   ]
  },
  {
   "cell_type": "code",
   "execution_count": 3,
   "id": "brilliant-characterization",
   "metadata": {},
   "outputs": [],
   "source": [
    "# 设置爪子的弧度\n",
    "arm.set_gripper(math.radians(30), t=1.0, power=3000) "
   ]
  },
  {
   "cell_type": "code",
   "execution_count": 4,
   "id": "functional-carnival",
   "metadata": {},
   "outputs": [],
   "source": [
    "# 设置爪子的弧度\n",
    "arm.set_gripper(0, t=1.0, power=3000) "
   ]
  },
  {
   "cell_type": "code",
   "execution_count": 5,
   "id": "accompanied-sarah",
   "metadata": {},
   "outputs": [],
   "source": [
    "# 爪子开启\n",
    "arm.gripper_open()"
   ]
  },
  {
   "cell_type": "code",
   "execution_count": 6,
   "id": "sized-april",
   "metadata": {},
   "outputs": [],
   "source": [
    "# 爪子闭合\n",
    "arm.gripper_close()"
   ]
  }
 ],
 "metadata": {
  "kernelspec": {
   "display_name": "Python 3",
   "language": "python",
   "name": "python3"
  },
  "language_info": {
   "codemirror_mode": {
    "name": "ipython",
    "version": 3
   },
   "file_extension": ".py",
   "mimetype": "text/x-python",
   "name": "python",
   "nbconvert_exporter": "python",
   "pygments_lexer": "ipython3",
   "version": "3.9.1"
  }
 },
 "nbformat": 4,
 "nbformat_minor": 5
}
